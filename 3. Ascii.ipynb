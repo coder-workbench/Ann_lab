{
 "cells": [
  {
   "cell_type": "code",
   "execution_count": 1,
   "id": "988170c1",
   "metadata": {},
   "outputs": [
    {
     "name": "stdin",
     "output_type": "stream",
     "text": [
      "Enter digit from 0-9 7\n"
     ]
    },
    {
     "name": "stdout",
     "output_type": "stream",
     "text": [
      "The ASCII representation '7' is predicted as odd.\n"
     ]
    }
   ],
   "source": [
    "import numpy as np\n",
    "\n",
    "class Perceptron:\n",
    "    def __init__(self, input_size, lr=0.01):\n",
    "        self.W = np.zeros(input_size)\n",
    "        self.lr = lr\n",
    "    \n",
    "    def activate(self, x):\n",
    "        return 1 if x >= 0 else 0\n",
    "        \n",
    "    def train(self, X, y, epochs):\n",
    "        for _ in range(epochs):\n",
    "            for i in range(y.shape[0]):\n",
    "                y_pred = self.activate(np.dot(X[i], self.W))\n",
    "                self.W += self.lr * (y[i] - y_pred) * X[i]\n",
    "                \n",
    "    def predict(self, X):\n",
    "        return [self.activate(np.dot(X[i], self.W)) for i in range(X.shape[0])]\n",
    "    \n",
    "even_odd_ascii = {\n",
    "    '0': [0, 0, 1, 1, 1, 1, 1, 0, 0, 1],  \n",
    "    '1': [0, 0, 1, 0, 0, 1, 0, 0, 0, 0],  \n",
    "    '2': [0, 0, 1, 1, 0, 1, 1, 0, 1, 1],  \n",
    "    '3': [0, 0, 1, 1, 0, 1, 1, 1, 1, 0],  \n",
    "    '4': [0, 0, 1, 0, 1, 1, 1, 1, 0, 0],  \n",
    "    '5': [0, 0, 1, 1, 1, 0, 1, 1, 1, 0],  \n",
    "    '6': [0, 0, 1, 1, 1, 0, 1, 1, 1, 1],  \n",
    "    '7': [0, 0, 1, 1, 0, 1, 0, 0, 0, 0],  \n",
    "    '8': [0, 0, 1, 1, 1, 1, 1, 1, 1, 1],  \n",
    "    '9': [0, 0, 1, 1, 1, 1, 1, 1, 0, 0]\n",
    "    \n",
    "}\n",
    "\n",
    "X = np.array(list(even_odd_ascii.values()))\n",
    "y = np.array([int(i) % 2 for i in even_odd_ascii.keys()])\n",
    "\n",
    "perceptron = Perceptron(input_size=10)\n",
    "perceptron.train(X, y, epochs=100)\n",
    "\n",
    "test_cases = (input(\"Enter digit from 0-9\"))\n",
    "for test_case in test_cases:\n",
    "    test_input = np.array([even_odd_ascii[test_case]])\n",
    "    prediction = perceptron.predict(test_input)[0]\n",
    "    result = \"even\" if prediction == 0 else \"odd\"\n",
    "    print(f\"The ASCII representation '{test_case}' is predicted as {result}.\")\n"
   ]
  },
  {
   "cell_type": "code",
   "execution_count": null,
   "id": "6232d8c7",
   "metadata": {},
   "outputs": [],
   "source": []
  }
 ],
 "metadata": {
  "kernelspec": {
   "display_name": "Python 3 (ipykernel)",
   "language": "python",
   "name": "python3"
  },
  "language_info": {
   "codemirror_mode": {
    "name": "ipython",
    "version": 3
   },
   "file_extension": ".py",
   "mimetype": "text/x-python",
   "name": "python",
   "nbconvert_exporter": "python",
   "pygments_lexer": "ipython3",
   "version": "3.11.2"
  }
 },
 "nbformat": 4,
 "nbformat_minor": 5
}
