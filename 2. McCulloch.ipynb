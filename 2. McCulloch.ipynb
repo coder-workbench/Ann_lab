{
 "cells": [
  {
   "cell_type": "code",
   "execution_count": 1,
   "id": "948143db-b69b-4a52-94a1-65a864578540",
   "metadata": {},
   "outputs": [],
   "source": [
    "import numpy as np"
   ]
  },
  {
   "cell_type": "code",
   "execution_count": 2,
   "id": "e94a4a96-4b76-4f00-a2bc-a7813b91842b",
   "metadata": {},
   "outputs": [],
   "source": [
    "def mp_neuron(inputs, weights, threshold):\n",
    "    # Compute the dot product Of the inputs and weights\n",
    "    net = np.dot(inputs, weights)\n",
    "    # Apply the threshold function\n",
    "    if net >= threshold:\n",
    "        output = 1\n",
    "    else:\n",
    "        output = 0\n",
    "    return output"
   ]
  },
  {
   "cell_type": "code",
   "execution_count": 26,
   "id": "900eb5c8-a284-4085-91c2-b2924d09c46e",
   "metadata": {},
   "outputs": [],
   "source": [
    "def andnot_nn(inputs):\n",
    "    weights = [-2, 1]\n",
    "    threshold = 0\n",
    "    # Compute the outputs of the two neurons in the first Layer\n",
    "    outputs = [mp_neuron(inputs, weights, threshold) for weights in [ [-1, 1], [1, -1]]]\n",
    "    # Compute the final output of the ANDNOT function\n",
    "    if outputs [0] == 1 and outputs[1] == 0:\n",
    "        output = 1\n",
    "    else:\n",
    "        output = 0\n",
    "    return output\n"
   ]
  },
  {
   "cell_type": "code",
   "execution_count": 27,
   "id": "d2633e8e-1a71-434a-a600-0526ac2f9f4d",
   "metadata": {},
   "outputs": [
    {
     "name": "stdout",
     "output_type": "stream",
     "text": [
      "Inputs:  [[0 0]\n",
      " [0 1]\n",
      " [1 0]\n",
      " [1 1]]\n",
      "Outputs:  [0, 1, 0, 0]\n"
     ]
    }
   ],
   "source": [
    "inputs = np.array([[0,0],[0,1],[1,0],[1,1]])\n",
    "outputs = []\n",
    "\n",
    "\n",
    "# Iterate over the input samples\n",
    "for i in range(inputs.shape[0]):\n",
    "    # Reshape the input sample and pass it through the andnot_nn function\n",
    "    y = andnot_nn(inputs[i].reshape(1, -1))\n",
    "    # Append the output to the list\n",
    "    outputs.append(y)\n",
    "\n",
    "# Print the inputs and outputs\n",
    "print(\"Inputs: \", inputs)\n",
    "print(\"Outputs: \", outputs)"
   ]
  },
  {
   "cell_type": "code",
   "execution_count": null,
   "id": "3e7046c5-36dc-47c5-aba9-92f4542dec51",
   "metadata": {},
   "outputs": [],
   "source": []
  }
 ],
 "metadata": {
  "kernelspec": {
   "display_name": "Python 3 (ipykernel)",
   "language": "python",
   "name": "python3"
  },
  "language_info": {
   "codemirror_mode": {
    "name": "ipython",
    "version": 3
   },
   "file_extension": ".py",
   "mimetype": "text/x-python",
   "name": "python",
   "nbconvert_exporter": "python",
   "pygments_lexer": "ipython3",
   "version": "3.11.2"
  }
 },
 "nbformat": 4,
 "nbformat_minor": 5
}
