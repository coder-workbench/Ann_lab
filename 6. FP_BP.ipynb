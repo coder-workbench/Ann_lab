{
 "cells": [
  {
   "cell_type": "code",
   "execution_count": 43,
   "id": "d3f1444e-67ef-4e76-a1f7-482c30c32baf",
   "metadata": {},
   "outputs": [
    {
     "name": "stdout",
     "output_type": "stream",
     "text": [
      "[[0.89679197]\n",
      " [0.97191297]\n",
      " [0.90559068]\n",
      " [0.51652229]]\n"
     ]
    }
   ],
   "source": [
    "import numpy as np\n",
    "\n",
    "class NeuralNetwork:\n",
    "    def __init__(self, input_size, hidden_size, output_size):\n",
    "        self.input_size = input_size\n",
    "        self.hidden_size = hidden_size\n",
    "        self.output_size = output_size\n",
    "        \n",
    "        # initialize weights\n",
    "        self.W1 = np.random.randn(self.input_size, self.hidden_size)\n",
    "        self.W2 = np.random.randn(self.hidden_size, self.output_size)\n",
    "\n",
    "    def sigmoid(self, x):\n",
    "        return 1 / (1 + np.exp(-x))\n",
    "\n",
    "    def sigmoid_derivative(self, x):\n",
    "        return x * (1 - x)\n",
    "\n",
    "    def forward(self, X):\n",
    "        # calculate output of hidden layer\n",
    "        self.z1 = np.dot(X, self.W1)\n",
    "        self.z2 = self.sigmoid(self.z1)\n",
    "        \n",
    "        # calculate output of output layer\n",
    "        self.z3 = np.dot(self.z2, self.W2)\n",
    "        output = self.sigmoid(self.z3)\n",
    "        return output\n",
    "\n",
    "    def backward(self, X, y, output):\n",
    "        # Calculate the error and derivative of error for output Layer\n",
    "        self.output_error = y - output\n",
    "        self.output_delta = self.output_error * self.sigmoid_derivative(output)\n",
    "        \n",
    "        # Calculate error and derivative of error for hidden Layer\n",
    "        self.z2_error = self.output_delta.dot(self.W2.T)\n",
    "        self.z2_delta = self.z2_error * self.sigmoid_derivative(self.z2)\n",
    "        \n",
    "        # Update weights\n",
    "        self.W1 += X.T.dot(self.z2_delta)\n",
    "        self.W2 += self.z2.T.dot(self.output_delta)\n",
    "\n",
    "    def train(self, X, y, epochs):\n",
    "        for i in range(epochs):\n",
    "            # Forward propagation\n",
    "            output = self.forward(X)\n",
    "            # Backward propagation\n",
    "            self.backward(X, y, output)\n",
    "\n",
    "# create a neural network object by specifying the number of inputs, hidden units\n",
    "nn = NeuralNetwork(input_size = 2, hidden_size=3, output_size=1)\n",
    "\n",
    "# specify train data 'X' and target output\n",
    "X = np.array([[0, 0], [0, 1], [1, 0], [1, 1]])\n",
    "y = np.array([[0], [1], [1], [0]])\n",
    "\n",
    "# Initialize the neural network\n",
    "nn.train(X, y, epochs=10000)\n",
    "\n",
    "# make predictions on new data\n",
    "new_data = np.array([[0,0.5],[0,0.8],[1,0.2],[1,0.6]])\n",
    "predictions = nn.forward(new_data)\n",
    "print(predictions)"
   ]
  },
  {
   "cell_type": "code",
   "execution_count": 20,
   "id": "7ab7bc2b-7d9a-43f5-84fb-44d9864ed35a",
   "metadata": {},
   "outputs": [],
   "source": [
    "     "
   ]
  }
 ],
 "metadata": {
  "kernelspec": {
   "display_name": "Python 3 (ipykernel)",
   "language": "python",
   "name": "python3"
  },
  "language_info": {
   "codemirror_mode": {
    "name": "ipython",
    "version": 3
   },
   "file_extension": ".py",
   "mimetype": "text/x-python",
   "name": "python",
   "nbconvert_exporter": "python",
   "pygments_lexer": "ipython3",
   "version": "3.11.2"
  }
 },
 "nbformat": 4,
 "nbformat_minor": 5
}
