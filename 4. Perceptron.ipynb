{
 "cells": [
  {
   "cell_type": "code",
   "execution_count": 1,
   "id": "e9afcaf2-e0ff-48c6-a48c-d3173b18adce",
   "metadata": {},
   "outputs": [],
   "source": [
    "import numpy as np\n",
    "import matplotlib. pyplot as plt"
   ]
  },
  {
   "cell_type": "code",
   "execution_count": 2,
   "id": "e8f616ba-3041-436e-9110-99bc9d8b77b3",
   "metadata": {},
   "outputs": [],
   "source": [
    "#Sample Dataset\n",
    "X = np.array([[1,2],[2,3],[3,1],[4,2],[2,4],[3,3]])\n",
    "y = np.array([0,0,0,1,1,1])"
   ]
  },
  {
   "cell_type": "code",
   "execution_count": 23,
   "id": "cabb657f-9834-4781-ba13-b4a65cb331bd",
   "metadata": {},
   "outputs": [],
   "source": [
    "class Perceptron:\n",
    "    def __init__(self, lr=0.1, epochs=100):\n",
    "        self.lr = lr\n",
    "        self.epochs = epochs\n",
    "        # Initialize Weights and Bias\n",
    "        self.weights = np.zeros(X.shape[1])\n",
    "        self.bias = 0\n",
    "\n",
    "    def fit(self, X, y):\n",
    "        for epoch in range(self.epochs):\n",
    "            for xi, yi in zip(X, y):\n",
    "                # Calculate Prediction\n",
    "                prediction = self.predict(xi)\n",
    "                # Update Weights and Bias\n",
    "                delta = self.lr * (yi - prediction)\n",
    "                self.weights += delta * xi\n",
    "                self.bias += delta\n",
    "\n",
    "    def predict(self, X):\n",
    "        # Calculate Activation\n",
    "        activation = np.dot(X, self.weights) + self.bias\n",
    "        # Apply Step Function\n",
    "        return np.where(activation >= 0, 1, 0)"
   ]
  },
  {
   "cell_type": "code",
   "execution_count": 24,
   "id": "c588697e-7470-4b64-ace8-f57dd7b64e72",
   "metadata": {},
   "outputs": [],
   "source": [
    "perceptron = Perceptron(lr=0.1, epochs=100)\n",
    "perceptron.fit(X, y)"
   ]
  },
  {
   "cell_type": "code",
   "execution_count": 16,
   "id": "77d07a42-d54b-40b4-8ab6-fc42e7019509",
   "metadata": {},
   "outputs": [
    {
     "ename": "NameError",
     "evalue": "name 'perceptron' is not defined",
     "output_type": "error",
     "traceback": [
      "\u001b[1;31m---------------------------------------------------------------------------\u001b[0m",
      "\u001b[1;31mNameError\u001b[0m                                 Traceback (most recent call last)",
      "Cell \u001b[1;32mIn[16], line 5\u001b[0m\n\u001b[0;32m      3\u001b[0m y_min, y_max \u001b[38;5;241m=\u001b[39m X[: \u001b[38;5;241m1\u001b[39m]\u001b[38;5;241m.\u001b[39mmin() \u001b[38;5;241m-\u001b[39m \u001b[38;5;241m1\u001b[39m, X[:,\u001b[38;5;241m1\u001b[39m]\u001b[38;5;241m.\u001b[39mmax()\u001b[38;5;241m+\u001b[39m\u001b[38;5;241m1\u001b[39m\n\u001b[0;32m      4\u001b[0m xx, yy \u001b[38;5;241m=\u001b[39m np\u001b[38;5;241m.\u001b[39mmeshgrid(np\u001b[38;5;241m.\u001b[39marange(x_min, x_max, \u001b[38;5;241m0.02\u001b[39m), np\u001b[38;5;241m.\u001b[39marange(y_min, y_max, \u001b[38;5;241m0.02\u001b[39m))\n\u001b[1;32m----> 5\u001b[0m Z \u001b[38;5;241m=\u001b[39m \u001b[43mperceptron\u001b[49m\u001b[38;5;241m.\u001b[39mpredict(np\u001b[38;5;241m.\u001b[39mc_[xx\u001b[38;5;241m.\u001b[39mravel(),yy\u001b[38;5;241m.\u001b[39mravel()])\n\u001b[0;32m      6\u001b[0m Z \u001b[38;5;241m=\u001b[39m Z\u001b[38;5;241m.\u001b[39mreshape(xx\u001b[38;5;241m.\u001b[39mshape)\n\u001b[0;32m      7\u001b[0m Z\n",
      "\u001b[1;31mNameError\u001b[0m: name 'perceptron' is not defined"
     ]
    }
   ],
   "source": [
    "# Decision Regions\n",
    "x_min, x_max = X[:,0].min() - 1, X[:,0].max()+1\n",
    "y_min, y_max = X[: 1].min() - 1, X[:,1].max()+1\n",
    "xx, yy = np.meshgrid(np.arange(x_min, x_max, 0.02), np.arange(y_min, y_max, 0.02))\n",
    "Z = perceptron.predict(np.c_[xx.ravel(),yy.ravel()])\n",
    "Z = Z.reshape(xx.shape)\n",
    "Z\n",
    "# Plot Results\n",
    "plt.contourf(xx, yy, Z, alpha=0.4)\n",
    "plt.scatter(X[:, 0], X[:, 1], c=y, cmap=plt.cm.Paired)\n",
    "plt.xlabel(' Feature 1 ' )\n",
    "plt.ylabel(' Feature 2')\n",
    "plt.title( 'Perceptron Decision Regions')\n",
    "plt.show()"
   ]
  },
  {
   "cell_type": "code",
   "execution_count": null,
   "id": "b2b0ac8d-b2d8-4aad-9e91-389801a30fdb",
   "metadata": {},
   "outputs": [],
   "source": []
  }
 ],
 "metadata": {
  "kernelspec": {
   "display_name": "Python 3 (ipykernel)",
   "language": "python",
   "name": "python3"
  },
  "language_info": {
   "codemirror_mode": {
    "name": "ipython",
    "version": 3
   },
   "file_extension": ".py",
   "mimetype": "text/x-python",
   "name": "python",
   "nbconvert_exporter": "python",
   "pygments_lexer": "ipython3",
   "version": "3.11.2"
  }
 },
 "nbformat": 4,
 "nbformat_minor": 5
}
